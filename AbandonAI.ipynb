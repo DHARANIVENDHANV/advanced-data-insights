{
 "cells": [
  {
   "cell_type": "code",
   "execution_count": null,
   "metadata": {},
   "outputs": [],
   "source": [
    "\"\"\"Data preprocessing\"\"\"\n",
    "\n",
    "import pandas as pd\n",
    "import seaborn as sns\n",
    "\n",
    "df  =  pd.read_csv(\"C:/Users/Dharani/Downloads/TestData Simulation Michaels - Ananth.csv\")\n",
    "#\"C:/Users/Dharani/Downloads/TestData Simulation Michaels - Sriram.csv\"\n",
    "#\"C:/Users/Dharani/Downloads/TestData Simulation Michaels - Ananth.csv\"\n",
    "# df  =  pd.read_csv(\"C:/Users/Dharani/Downloads/TestData Simulation Michaels - Ananth.csv\")\n",
    "df = df.drop(\"Test Case ID\",axis=1)\n",
    "df = df.dropna(axis = 0)\n",
    "df = df.rename(columns={\"Test Case Description\":\"Query_Type\"})\n",
    "df.columns\n"
   ]
  },
  {
   "cell_type": "code",
   "execution_count": null,
   "metadata": {},
   "outputs": [],
   "source": [
    "df.head()"
   ]
  },
  {
   "cell_type": "code",
   "execution_count": null,
   "metadata": {},
   "outputs": [],
   "source": [
    "\"\"\"data visualization\"\"\"\n",
    "\n",
    "import pandas as pd\n",
    "import seaborn as sns\n",
    "import matplotlib.pyplot as plt\n",
    "\n",
    "# Pie chart for Query Types\n",
    "Query_types_dict = {}\n",
    "Query_types = list(df['Query_Type'].unique())\n",
    "for q_type in Query_types:\n",
    "    Query_types_dict[q_type] = df.loc[df['Query_Type'] == q_type].shape[0]\n",
    "\n",
    "\n",
    "df1 = pd.DataFrame(list(Query_types_dict.items()), columns=['Query_Type', 'Count'])\n",
    "\n",
    "# Bar plot for Total Loss by Query Type\n",
    "Total_loss_Q_types_dict = {}\n",
    "Total_loss = df.loc[df['Added to Cart?'] == 'No'][\"Average Dollar Value\"].sum()\n",
    "\n",
    "for q_type in Query_types_dict.keys():\n",
    "    Total_loss_Q_types_dict[q_type] = df.loc[(df['Added to Cart?'] == 'No') & \n",
    "                                             (df['Query_Type'] == q_type), \n",
    "                                             'Average Dollar Value'].sum()\n",
    "\n",
    "loss_df = pd.DataFrame(list(Total_loss_Q_types_dict.items()), columns=['Query_Type', 'Total_Loss'])\n",
    "\n",
    "# Pie chart for Abandoned vs. Not Abandoned Carts\n",
    "Abandon = df.loc[df['Added to Cart?'] == 'No'].shape[0]\n",
    "Not_Abandon = df.loc[df['Added to Cart?'] == 'Yes'].shape[0]\n",
    "abandon_data = {\n",
    "    'Abandoned': Abandon,\n",
    "    'Not Abandoned': Not_Abandon\n",
    "}\n",
    "\n",
    "df['Valid Result Count'] = pd.to_numeric(df['Valid Result Count '], errors='coerce')\n",
    "df['Result Count'] = pd.to_numeric(df['Result Count'], errors='coerce')\n",
    "\n",
    "total_valid_result_count = df['Valid Result Count '].sum()\n",
    "total_result_count = df['Result Count'].sum()\n",
    "result_data = {\n",
    "    'Valid Result Count ': total_valid_result_count,\n",
    "    'Result Count': total_result_count - total_valid_result_count  \n",
    "}\n",
    "\n",
    "fig, axs = plt.subplots(2, 2, figsize=(12, 10))\n",
    "\n",
    "axs[0, 0].pie(df1['Count'], labels=df1['Query_Type'], autopct='%1.1f%%', startangle=90)\n",
    "axs[0, 0].set_title(\"Distribution of Query Types\")\n",
    "axs[0, 0].axis('equal')\n",
    "\n",
    "sns.barplot(x='Query_Type', y='Total_Loss', data=loss_df, ax=axs[0, 1])\n",
    "axs[0, 1].set_title('Total Loss by Query Type (Items Not Added to Cart)')\n",
    "axs[0, 1].set_xlabel('Query Type')\n",
    "axs[0, 1].set_ylabel('Total Loss (Average Dollar Value)')\n",
    "axs[0, 1].tick_params(axis='x', rotation=45)\n",
    "\n",
    "axs[1, 0].pie(abandon_data.values(), labels=abandon_data.keys(), autopct='%1.1f%%', startangle=90, colors=['#66c2a5', '#fc8d62'])\n",
    "axs[1, 0].set_title('Abandonment of Carts')\n",
    "axs[1, 0].axis('equal')\n",
    "\n",
    "axs[1, 1].pie(result_data.values(), labels=result_data.keys(), autopct='%1.1f%%', startangle=90, colors=['#66c2a5', '#fc8d62'])\n",
    "axs[1, 1].set_title('Valid Result Count vs. Result Count')\n",
    "axs[1, 1].axis('equal')\n",
    "\n",
    "plt.tight_layout()\n",
    "\n",
    "plt.show()\n"
   ]
  },
  {
   "cell_type": "code",
   "execution_count": null,
   "metadata": {},
   "outputs": [],
   "source": [
    "\"\"\"openai pandas-dataframe-agent \"\"\"\n",
    "\n",
    "from langchain.chat_models import ChatOpenAI\n",
    "from langchain_experimental.agents import create_pandas_dataframe_agent\n",
    "import pandas as pd\n",
    "import matplotlib.pyplot as plt\n",
    "import seaborn as sns\n",
    "\n",
    "openai_api_key = \"YOUR API KEY\"\n",
    "chat = ChatOpenAI(openai_api_key = openai_api_key, model_name='gpt-4', temperature=0.0)\n",
    "agent = create_pandas_dataframe_agent(chat, df, allow_dangerous_code=True, verbose=False)"
   ]
  },
  {
   "cell_type": "code",
   "execution_count": null,
   "metadata": {},
   "outputs": [],
   "source": [
    "agent.run(\"How many typos query are present show that in piechart\")"
   ]
  }
 ],
 "metadata": {
  "language_info": {
   "name": "python"
  }
 },
 "nbformat": 4,
 "nbformat_minor": 2
}
